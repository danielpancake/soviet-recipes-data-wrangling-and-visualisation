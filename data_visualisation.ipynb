{
 "cells": [
  {
   "cell_type": "code",
   "execution_count": null,
   "metadata": {},
   "outputs": [],
   "source": [
    "# Import packages\n",
    "import numpy as np\n",
    "import pandas as pd"
   ]
  },
  {
   "cell_type": "code",
   "execution_count": null,
   "metadata": {},
   "outputs": [],
   "source": [
    "df = pd.read_json(\"data/structured_data.json\", orient=\"table\")\n",
    "df.head()"
   ]
  },
  {
   "cell_type": "markdown",
   "metadata": {},
   "source": [
    "# Plotly visualisation"
   ]
  },
  {
   "cell_type": "markdown",
   "metadata": {},
   "source": [
    "## 1. Bar chart\n",
    "Bar chart of the number of recipes per category or subcategory"
   ]
  },
  {
   "cell_type": "code",
   "execution_count": null,
   "metadata": {},
   "outputs": [],
   "source": [
    "import plotly.express as px"
   ]
  },
  {
   "cell_type": "code",
   "execution_count": null,
   "metadata": {},
   "outputs": [],
   "source": [
    "# Bar chart using plotly\n",
    "recipes_count_per_category = df.groupby(\"category\").count()[\"recipe_name\"].reset_index()\n",
    "recipes_count_per_category.columns = [\"category\", \"count\"]\n",
    "recipes_count_per_category"
   ]
  },
  {
   "cell_type": "code",
   "execution_count": null,
   "metadata": {},
   "outputs": [],
   "source": [
    "fig = px.bar(\n",
    "    recipes_count_per_category,\n",
    "    x=\"category\",\n",
    "    y=\"count\",\n",
    "    title=\"Число рецептов по категориям\",\n",
    ")\n",
    "fig.show()"
   ]
  },
  {
   "cell_type": "code",
   "execution_count": null,
   "metadata": {},
   "outputs": [],
   "source": [
    "# recipes_count_per_subcategory = \\\n",
    "#     df.groupby([\"category\", \"subcategory\"]).count()[\"recipe_name\"].reset_index()\n",
    "# recipes_count_per_subcategory.columns = [\"category\", \"subcategory\", \"count\"]\n",
    "# recipes_count_per_subcategory"
   ]
  },
  {
   "cell_type": "code",
   "execution_count": null,
   "metadata": {},
   "outputs": [],
   "source": [
    "# fig = px.bar(\n",
    "#     recipes_count_per_subcategory,\n",
    "#     x=\"subcategory\",\n",
    "#     y=\"count\",\n",
    "#     color=\"category\",\n",
    "#     title=\"Number of recipes per subcategory\",\n",
    "# )\n",
    "# fig.show()"
   ]
  },
  {
   "cell_type": "markdown",
   "metadata": {},
   "source": [
    "## 2. Word cloud\n",
    "Word cloud of the most commonly used ingredients"
   ]
  },
  {
   "cell_type": "code",
   "execution_count": null,
   "metadata": {},
   "outputs": [],
   "source": [
    "from collections import defaultdict"
   ]
  },
  {
   "cell_type": "code",
   "execution_count": null,
   "metadata": {},
   "outputs": [],
   "source": [
    "# Word cloud\n",
    "ingredients_list_counts = defaultdict(int)\n",
    "\n",
    "for ingredients in df[\"parsed_ingredients\"]:\n",
    "    for ingredient in ingredients:\n",
    "        if ingredient:\n",
    "            ingredients_list_counts[ingredient[0]] += 1\n",
    "\n",
    "# Save to file\n",
    "with open(\"visualisation/data/ingredients.txt\", \"w\", encoding=\"utf-8\") as f:\n",
    "    for ingredient, count in ingredients_list_counts.items():\n",
    "        f.write(f\"{ingredient} {count}\\n\")"
   ]
  },
  {
   "cell_type": "code",
   "execution_count": null,
   "metadata": {},
   "outputs": [],
   "source": [
    "# Show svg file\n",
    "from IPython.display import SVG, display\n",
    "\n",
    "display(SVG(filename=\"visualisation/wordcloud.svg\"))"
   ]
  }
 ],
 "metadata": {
  "kernelspec": {
   "display_name": "Python 3",
   "language": "python",
   "name": "python3"
  },
  "language_info": {
   "codemirror_mode": {
    "name": "ipython",
    "version": 3
   },
   "file_extension": ".py",
   "mimetype": "text/x-python",
   "name": "python",
   "nbconvert_exporter": "python",
   "pygments_lexer": "ipython3",
   "version": "3.11.1"
  },
  "orig_nbformat": 4
 },
 "nbformat": 4,
 "nbformat_minor": 2
}
