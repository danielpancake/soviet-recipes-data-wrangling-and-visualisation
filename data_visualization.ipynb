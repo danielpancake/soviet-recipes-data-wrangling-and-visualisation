{
 "cells": [
  {
   "cell_type": "markdown",
   "metadata": {},
   "source": [
    "# Plotly visualization"
   ]
  },
  {
   "cell_type": "code",
   "execution_count": null,
   "metadata": {},
   "outputs": [],
   "source": [
    "import textwrap\n",
    "\n",
    "def customwrap(s, width=38):\n",
    "    return \"<br>\".join(textwrap.wrap(s, width=width))"
   ]
  },
  {
   "cell_type": "markdown",
   "metadata": {},
   "source": [
    "## 1. Bar chart\n",
    "Bar chart of the number of recipes per category or subcategory"
   ]
  },
  {
   "cell_type": "code",
   "execution_count": null,
   "metadata": {},
   "outputs": [],
   "source": [
    "import os\n",
    "import pandas as pd\n",
    "import plotly.express as px\n",
    "import plotly.graph_objects as go"
   ]
  },
  {
   "cell_type": "code",
   "execution_count": null,
   "metadata": {},
   "outputs": [],
   "source": [
    "df = pd.read_json(\"data/structured_data.json\", orient=\"table\")\n",
    "df.head()"
   ]
  },
  {
   "cell_type": "code",
   "execution_count": null,
   "metadata": {},
   "outputs": [],
   "source": [
    "# Wrap long subcategory names\n",
    "df[\"subcategory\"] = df[\"subcategory\"].apply(customwrap)"
   ]
  },
  {
   "cell_type": "code",
   "execution_count": null,
   "metadata": {},
   "outputs": [],
   "source": [
    "# Bar chart using plotly\n",
    "recipes_count_per_category = df.groupby(\"category\").count()[\"recipe_name\"].reset_index()\n",
    "recipes_count_per_category.columns = [\"Категория\", \"Число рецептов\"]\n",
    "\n",
    "# Sort by number of recipes\n",
    "recipes_count_per_category = recipes_count_per_category.sort_values(by=\"Число рецептов\", ascending=False)\n",
    "recipes_count_per_category"
   ]
  },
  {
   "cell_type": "code",
   "execution_count": null,
   "metadata": {},
   "outputs": [],
   "source": [
    "# Disable x-axis labels\n",
    "fig = px.bar(\n",
    "    recipes_count_per_category,\n",
    "    x=\"Категория\",\n",
    "    y=\"Число рецептов\",\n",
    "    title=\"Число рецептов по категориям\",\n",
    "    color=\"Категория\",\n",
    ")\n",
    "fig.update_xaxes(showticklabels=False, title=None)\n",
    "fig.update_layout(\n",
    "    paper_bgcolor=\"rgba(0, 0, 0, 0)\",\n",
    "    plot_bgcolor=\"rgba(0, 0, 0, 0)\",\n",
    "    font_family=\"Arial Black\",\n",
    "    title_font_family=\"Arial Black\",\n",
    ")\n",
    "fig.show()\n",
    "\n",
    "# Save figure\n",
    "os.makedirs(\"visualization/images\", exist_ok=True)\n",
    "fig.write_image(\"visualization/images/recipes_count_per_category.svg\")"
   ]
  },
  {
   "cell_type": "code",
   "execution_count": null,
   "metadata": {},
   "outputs": [],
   "source": [
    "## For each category show a bar chart with the number of recipes per subcategory\n",
    "recipes_count_per_subcategory = df.groupby([\"category\", \"subcategory\"]).count()[\"recipe_name\"].reset_index()\n",
    "recipes_count_per_subcategory.columns = [\"Категория\", \"Подкатегория\", \"Число рецептов\"]\n",
    "\n",
    "# Sort by count per each category\n",
    "recipes_count_per_subcategory = recipes_count_per_subcategory.sort_values(\n",
    "    by=[\"Категория\", \"Число рецептов\"], ascending=[True, False]\n",
    ")\n",
    "recipes_count_per_subcategory"
   ]
  },
  {
   "cell_type": "code",
   "execution_count": null,
   "metadata": {},
   "outputs": [],
   "source": [
    "for category in recipes_count_per_subcategory[\"Категория\"].unique():\n",
    "    fig = px.bar(\n",
    "        recipes_count_per_subcategory[recipes_count_per_subcategory[\"Категория\"] == category],\n",
    "        x=\"Подкатегория\",\n",
    "        y=\"Число рецептов\",\n",
    "        color=\"Подкатегория\",\n",
    "        title=f\"Число рецептов по подкатегориям в категории {category}\",\n",
    "        text_auto=True,\n",
    "        width=960,\n",
    "    )\n",
    "    fig.update_xaxes(showticklabels=False, title=None)\n",
    "    fig.update_layout(\n",
    "        paper_bgcolor=\"rgba(0, 0, 0, 0)\",\n",
    "        plot_bgcolor=\"rgba(0, 0, 0, 0)\",\n",
    "        font_family=\"Arial Black\",\n",
    "        title_font_family=\"Arial Black\",\n",
    "        legend = dict(\n",
    "            entrywidth=0.45,\n",
    "            entrywidthmode='fraction',\n",
    "            orientation=\"h\",\n",
    "            xanchor=\"center\",\n",
    "            x=0.5,\n",
    "            yanchor=\"top\",\n",
    "            y=-0.15,\n",
    "            title=None,\n",
    "        ),\n",
    "    )\n",
    "    fig.show()\n",
    "\n",
    "    # Save figure\n",
    "    os.makedirs(\"visualization/images/stats_per_category\", exist_ok=True)\n",
    "    fig.write_image(f\"visualization/images/stats_per_category/{category}.svg\")"
   ]
  },
  {
   "cell_type": "markdown",
   "metadata": {},
   "source": [
    "## 2. Word cloud\n",
    "Word cloud of the most commonly used ingredients"
   ]
  },
  {
   "cell_type": "code",
   "execution_count": null,
   "metadata": {},
   "outputs": [],
   "source": [
    "import pandas as pd\n",
    "\n",
    "from collections import defaultdict"
   ]
  },
  {
   "cell_type": "code",
   "execution_count": null,
   "metadata": {},
   "outputs": [],
   "source": [
    "df = pd.read_json(\"data/structured_data.json\", orient=\"table\")\n",
    "df.head()"
   ]
  },
  {
   "cell_type": "code",
   "execution_count": null,
   "metadata": {},
   "outputs": [],
   "source": [
    "# Word cloud\n",
    "ingredients_list_counts = defaultdict(int)\n",
    "\n",
    "for ingredients in df[\"parsed_ingredients\"]:\n",
    "    for ingredient in ingredients:\n",
    "        if ingredient:\n",
    "            ingredients_list_counts[ingredient[0]] += 1\n",
    "\n",
    "# Sort by count\n",
    "ingredients_list_counts = dict(sorted(ingredients_list_counts.items(), key=lambda x: x[1], reverse=True))\n",
    "\n",
    "# Save to file\n",
    "with open(\"visualization/data/ingredients.txt\", \"w\", encoding=\"utf-8\") as f:\n",
    "    for ingredient, count in ingredients_list_counts.items():\n",
    "        if ingredient is not None:\n",
    "            f.write(f\"{ingredient} {count}\\n\")"
   ]
  },
  {
   "cell_type": "code",
   "execution_count": null,
   "metadata": {},
   "outputs": [],
   "source": [
    "# Show svg file\n",
    "from IPython.display import SVG, display\n",
    "\n",
    "display(SVG(filename=\"visualization/images/wordcloud.svg\"))"
   ]
  },
  {
   "cell_type": "markdown",
   "metadata": {},
   "source": [
    "## 3. Sunburst chart"
   ]
  },
  {
   "cell_type": "code",
   "execution_count": null,
   "metadata": {},
   "outputs": [],
   "source": [
    "import pandas as pd\n",
    "import plotly.express as px\n",
    "import plotly.graph_objects as go"
   ]
  },
  {
   "cell_type": "code",
   "execution_count": null,
   "metadata": {},
   "outputs": [],
   "source": [
    "df = pd.read_json(\"data/structured_data.json\", orient=\"table\")\n",
    "df.head()"
   ]
  },
  {
   "cell_type": "code",
   "execution_count": null,
   "metadata": {},
   "outputs": [],
   "source": [
    "# Wrap long subcategory names\n",
    "df[\"subcategory\"] = df[\"subcategory\"].apply(customwrap, width=20)"
   ]
  },
  {
   "cell_type": "code",
   "execution_count": null,
   "metadata": {},
   "outputs": [],
   "source": [
    "categories_names = df.groupby(\"category\").count().reset_index()[\"category\"].tolist()\n",
    "categories_values = df.groupby(\"category\").count().reset_index()[\"recipe_name\"].tolist()\n",
    "\n",
    "subcategories_names = df.groupby([\"category\", \"subcategory\"]).count().reset_index()[\"subcategory\"].tolist()\n",
    "subcategories_parents = df.groupby([\"category\", \"subcategory\"]).count().reset_index()[\"category\"].tolist()\n",
    "subcategories_values = df.groupby([\"category\", \"subcategory\"]).count().reset_index()[\"recipe_name\"].tolist()\n",
    "\n",
    "trace = go.Sunburst(\n",
    "    labels=[\"БЛЮДА\"] + categories_names + subcategories_names,\n",
    "    parents=[\"\"] + [\"БЛЮДА\"] * len(categories_names) + subcategories_parents,\n",
    "    values=[df.shape[0]] + categories_values + subcategories_values,\n",
    "    branchvalues=\"total\",\n",
    "    marker={\"line\": {\"width\": 2}},\n",
    "    textinfo=\"label+percent entry\",\n",
    "    hovertemplate=\"<b>Рецептов: %{value}</b><extra></extra>\",\n",
    "    insidetextorientation='radial'\n",
    ")\n",
    "\n",
    "layout = go.Layout(\n",
    "    paper_bgcolor=\"rgba(0, 0, 0, 0)\",\n",
    "    plot_bgcolor=\"rgba(0, 0, 0, 0)\",\n",
    "    margin = go.layout.Margin(t=0, l=0, r=0, b=0),\n",
    "    width=900,\n",
    "    height=900,\n",
    "    font_family=\"Arial Black\"\n",
    ")\n",
    "\n",
    "figure = {\n",
    "    \"data\": [trace],\n",
    "    \"layout\": layout\n",
    "}\n",
    "\n",
    "fig = go.Figure(figure)\n",
    "fig.show()\n",
    "\n",
    "# Save figure\n",
    "with open(\"visualization/images/sunburst.html\", \"w\", encoding=\"utf-8\") as f:\n",
    "    f.write(fig.to_html(full_html=False, include_plotlyjs=\"cdn\"))"
   ]
  },
  {
   "cell_type": "markdown",
   "metadata": {},
   "source": [
    "## 4. Interactive Network Visualization"
   ]
  },
  {
   "cell_type": "code",
   "execution_count": null,
   "metadata": {},
   "outputs": [],
   "source": [
    "import json\n",
    "import os\n",
    "import pandas as pd"
   ]
  },
  {
   "cell_type": "code",
   "execution_count": null,
   "metadata": {},
   "outputs": [],
   "source": [
    "df = pd.read_json(\"data/structured_data.json\", orient=\"table\")\n",
    "df.head()"
   ]
  },
  {
   "cell_type": "code",
   "execution_count": null,
   "metadata": {},
   "outputs": [],
   "source": [
    "recipes_ingredients = []\n",
    "\n",
    "for category, subcategory, recipe_name, ingredients in zip(df[\"category\"], df[\"subcategory\"], df[\"recipe_name\"], df[\"parsed_ingredients\"]):\n",
    "    recipes_ingredients.append(\n",
    "        {\n",
    "            \"category\": category,\n",
    "            \"subcategory\": subcategory,\n",
    "            \"recipe_name\": recipe_name,\n",
    "            \"ingredients\": [\n",
    "                ingredient[0] for ingredient in ingredients if ingredient[0]\n",
    "            ]\n",
    "        }\n",
    "    )\n",
    "\n",
    "recipes_ingredients"
   ]
  },
  {
   "cell_type": "markdown",
   "metadata": {},
   "source": [
    "### We need to gather data in the following format:\n",
    "```json\n",
    "{\n",
    "  \"nodes\": [\n",
    "    {\n",
    "      \"is_recipe\": true,\n",
    "      \"recipe_name\": \"recipe name\",\n",
    "      \"id\": \"unique_id_1\",\n",
    "    },\n",
    "    {\n",
    "      \"is_recipe\": false,\n",
    "      \"ingredient\": \"ingredient name\",\n",
    "      \"id\": \"unique_id_2\",\n",
    "    },\n",
    "    {\n",
    "      ...\n",
    "    },\n",
    "  ],\n",
    "  \"links\": [\n",
    "    {\n",
    "      \"source\": \"unique_id_1\",\n",
    "      \"target\": \"unique_id_2\"\n",
    "    },\n",
    "    {\n",
    "      ...\n",
    "    }\n",
    "  ]\n",
    "}\n",
    "```\n"
   ]
  },
  {
   "cell_type": "code",
   "execution_count": null,
   "metadata": {},
   "outputs": [],
   "source": [
    "recipe_last_id = 0\n",
    "ingredient_last_id = 0\n",
    "\n",
    "ingredients_set = {}  # set of unique ingredients\n",
    "\n",
    "for category in df[\"category\"].unique():\n",
    "    for subcategory in df[df[\"category\"] == category][\"subcategory\"].unique():\n",
    "        recipes_ingredients_per_subcategory = {\n",
    "            recipe[\"recipe_name\"]: recipe[\"ingredients\"] for recipe in recipes_ingredients\n",
    "            if recipe[\"category\"] == category and recipe[\"subcategory\"] == subcategory\n",
    "        }\n",
    "\n",
    "        ingredient_nodes = []\n",
    "        ingredients_current_set = set()\n",
    "\n",
    "        recipe_nodes = []\n",
    "\n",
    "        recipe_links = []\n",
    "\n",
    "        for i, (recipe_name, recipe_ingredients) in enumerate(recipes_ingredients_per_subcategory.items()):\n",
    "            for ingredient in recipe_ingredients:\n",
    "                if ingredient is None:\n",
    "                    continue\n",
    "\n",
    "                if ingredient not in ingredients_set:\n",
    "                    # Assing unique id to each ingredient\n",
    "                    ingredients_set[ingredient] = ingredient_last_id\n",
    "                    ingredient_last_id += 1\n",
    "\n",
    "                if ingredient not in ingredients_current_set:\n",
    "                    ingredients_current_set.add(ingredient)\n",
    "\n",
    "                    # Add ingredient node\n",
    "                    ingredient_nodes.append(\n",
    "                        {\n",
    "                            \"id\": f\"i{ingredients_set[ingredient]}\",\n",
    "                            \"is_recipe\": False,\n",
    "                            \"name\": ingredient\n",
    "                        }\n",
    "                    )\n",
    "\n",
    "                # Add links between recipe and ingredients\n",
    "                recipe_links.append(\n",
    "                    {\n",
    "                        \"source\": f\"r{recipe_last_id}\",\n",
    "                        \"target\": f\"i{ingredients_set[ingredient]}\"\n",
    "                    }\n",
    "                )\n",
    "\n",
    "            # Add recipe node\n",
    "            recipe_nodes.append(\n",
    "                {\n",
    "                    \"id\": f\"r{recipe_last_id}\",\n",
    "                    \"is_recipe\": True,\n",
    "                    \"name\": recipe_name\n",
    "                }\n",
    "            )\n",
    "\n",
    "            recipe_last_id += 1\n",
    "\n",
    "        # Create output directory\n",
    "        os.makedirs(f\"visualization/data/network/{category}\", exist_ok=True)\n",
    "\n",
    "        # Save to file\n",
    "        with open(f\"visualization/data/network/{category}/{subcategory}.json\", \"w\", encoding=\"utf-8\") as f:\n",
    "            json.dump(\n",
    "                {\n",
    "                    \"nodes\": recipe_nodes + ingredient_nodes,\n",
    "                    \"links\": recipe_links\n",
    "                },\n",
    "                f,\n",
    "                ensure_ascii=False\n",
    "            )"
   ]
  },
  {
   "cell_type": "code",
   "execution_count": null,
   "metadata": {},
   "outputs": [],
   "source": [
    "# Create index file with paths to all subcategories\n",
    "with open(\"visualization/data/network/index.json\", \"w\", encoding=\"utf-8\") as f:\n",
    "    json.dump(\n",
    "        {\n",
    "            category: [\n",
    "                subcategory for subcategory in df[df[\"category\"] == category][\"subcategory\"].unique()\n",
    "            ] for category in df[\"category\"].unique()\n",
    "        },\n",
    "        f,\n",
    "        ensure_ascii=False\n",
    "    )"
   ]
  },
  {
   "cell_type": "code",
   "execution_count": null,
   "metadata": {},
   "outputs": [],
   "source": []
  }
 ],
 "metadata": {
  "kernelspec": {
   "display_name": "Python 3",
   "language": "python",
   "name": "python3"
  },
  "language_info": {
   "codemirror_mode": {
    "name": "ipython",
    "version": 3
   },
   "file_extension": ".py",
   "mimetype": "text/x-python",
   "name": "python",
   "nbconvert_exporter": "python",
   "pygments_lexer": "ipython3",
   "version": "3.10.0"
  },
  "orig_nbformat": 4
 },
 "nbformat": 4,
 "nbformat_minor": 2
}
