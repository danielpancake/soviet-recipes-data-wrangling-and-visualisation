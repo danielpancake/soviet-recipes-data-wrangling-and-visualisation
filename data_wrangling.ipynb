{
 "cells": [
  {
   "cell_type": "code",
   "execution_count": null,
   "metadata": {},
   "outputs": [],
   "source": [
    "# Import packages\n",
    "import numpy as np\n",
    "import pandas as pd\n",
    "import re"
   ]
  },
  {
   "cell_type": "code",
   "execution_count": null,
   "metadata": {},
   "outputs": [],
   "source": [
    "# Read in data\n",
    "df = pd.read_json(\"data/raw_data.json\")\n",
    "df.head()"
   ]
  },
  {
   "attachments": {},
   "cell_type": "markdown",
   "metadata": {},
   "source": [
    "As of now, the ingridients are lists of strings. Ingredient name, quantity and units are merged together. We need to split them into separate columns.\n"
   ]
  },
  {
   "cell_type": "code",
   "execution_count": null,
   "metadata": {},
   "outputs": [],
   "source": [
    "class RecipeIngredient:\n",
    "    name = \"\"\n",
    "    quantity = 0\n",
    "    unit = \"\"\n",
    "\n",
    "    def __init__(self, name, quantity, unit):\n",
    "        self.name = name\n",
    "        self.quantity = quantity\n",
    "        self.unit = unit\n",
    "\n",
    "    def __repr__(self):\n",
    "        if self.quantity:\n",
    "            return f\"<{self.name} | {self.quantity} {self.unit}>\"\n",
    "\n",
    "        return f\"{self.name} | {self.unit}\"\n",
    "\n",
    "    def __str__(self):\n",
    "        return self.__repr__()"
   ]
  },
  {
   "cell_type": "code",
   "execution_count": null,
   "metadata": {},
   "outputs": [],
   "source": [
    "# The supposed format of each string is:\n",
    "# ingredient_name - quantity units\n",
    "\n",
    "# We will split by \\U+02013 or -\n",
    "\n",
    "def process_ingredient_list(ingredient_list):\n",
    "    processed_ingredients = []\n",
    "\n",
    "    for ingredient_line in ingredient_list:\n",
    "\n",
    "        if type(ingredient_line) != str:\n",
    "            processed_ingredients.append(ingredient_line)\n",
    "\n",
    "        splitted = ingredient_line.split(\"–\")\n",
    "\n",
    "        if (len(splitted) != 2):\n",
    "            continue\n",
    "\n",
    "        ingredient_name = splitted[0].strip()\n",
    "\n",
    "        # splitted[1] = \" \".join(re.findall(r'[\\w.,]+', splitted[1]))\n",
    "\n",
    "        quantity_units = re.split(r'(\\d+,?\\d*)', splitted[1].strip())\n",
    "        quantity_units = list(map(lambda x: x.strip(), quantity_units))\n",
    "        quantity_units = list(filter(None, quantity_units))\n",
    "\n",
    "        match len(quantity_units):\n",
    "            case 1:\n",
    "                processed_ingredients.append(\n",
    "                    RecipeIngredient(ingredient_name, None, quantity_units[0])\n",
    "                )\n",
    "\n",
    "            case 2:\n",
    "                processed_ingredients.append(\n",
    "                    RecipeIngredient(\n",
    "                        ingredient_name, quantity_units[0].replace(\",\", \".\"), quantity_units[1])\n",
    "                )\n",
    "\n",
    "            case _:\n",
    "                print(ingredient_line)\n",
    "                # raise Exception(\n",
    "                #     \"Unexpected number of elements in quantity_units\")\n",
    "\n",
    "    return processed_ingredients"
   ]
  },
  {
   "cell_type": "code",
   "execution_count": null,
   "metadata": {},
   "outputs": [],
   "source": [
    "# Test process_ingredient_list function\n",
    "process_ingredient_list(df[\"ingredients\"][0])"
   ]
  },
  {
   "cell_type": "code",
   "execution_count": null,
   "metadata": {},
   "outputs": [],
   "source": [
    "# Apply to the whole dataframe\n",
    "df[\"ingredients\"] = df[\"ingredients\"].apply(process_ingredient_list)"
   ]
  },
  {
   "cell_type": "code",
   "execution_count": null,
   "metadata": {},
   "outputs": [],
   "source": []
  }
 ],
 "metadata": {
  "kernelspec": {
   "display_name": "venv",
   "language": "python",
   "name": "python3"
  },
  "language_info": {
   "codemirror_mode": {
    "name": "ipython",
    "version": 3
   },
   "file_extension": ".py",
   "mimetype": "text/x-python",
   "name": "python",
   "nbconvert_exporter": "python",
   "pygments_lexer": "ipython3",
   "version": "3.10.0"
  },
  "orig_nbformat": 4
 },
 "nbformat": 4,
 "nbformat_minor": 2
}
