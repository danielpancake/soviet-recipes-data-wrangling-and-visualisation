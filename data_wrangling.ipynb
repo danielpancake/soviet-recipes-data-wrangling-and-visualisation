{
 "cells": [
  {
   "cell_type": "code",
   "execution_count": null,
   "metadata": {},
   "outputs": [],
   "source": [
    "# Import packages\n",
    "import numpy as np\n",
    "import os\n",
    "import pandas as pd\n",
    "import re"
   ]
  },
  {
   "cell_type": "code",
   "execution_count": null,
   "metadata": {},
   "outputs": [],
   "source": [
    "# Continue to write to the structured_data.json file if it exists\n",
    "if os.path.exists(\"data/structured_data.json\"):\n",
    "    df = pd.read_json(\"data/structured_data.json\", orient=\"table\")\n",
    "else:\n",
    "    df = pd.read_json(\"data/structured_data.json\")\n",
    "    df[\"parsed_ingredients\"] = None\n",
    "\n",
    "df.head()"
   ]
  },
  {
   "cell_type": "code",
   "execution_count": null,
   "metadata": {},
   "outputs": [],
   "source": [
    "df.shape"
   ]
  },
  {
   "cell_type": "code",
   "execution_count": null,
   "metadata": {},
   "outputs": [],
   "source": [
    "# Remove rows with empty ingredients list\n",
    "df = df[df['ingredients'].map(lambda d: len(d)) > 0]\n",
    "df.shape"
   ]
  },
  {
   "cell_type": "markdown",
   "metadata": {},
   "source": [
    "# Using Claude AI to process data\n"
   ]
  },
  {
   "cell_type": "code",
   "execution_count": null,
   "metadata": {},
   "outputs": [],
   "source": [
    "import json\n",
    "import os\n",
    "import requests\n",
    "import uuid\n",
    "\n",
    "from dotenv import load_dotenv\n",
    "from loguru import logger\n",
    "from tqdm import tqdm"
   ]
  },
  {
   "cell_type": "code",
   "execution_count": null,
   "metadata": {},
   "outputs": [],
   "source": [
    "load_dotenv(override=True)\n",
    "\n",
    "API_URL = \"https://claude.ai/api\"\n",
    "\n",
    "ORGANIZATION_ID = os.getenv(\"ORGANIZATION_ID\")\n",
    "\n",
    "COOKIES = {\n",
    "    \"sessionKey\": os.getenv(\"SESSION_KEY\")\n",
    "}\n",
    "\n",
    "HEADERS = {\n",
    "    \"User-Agent\": \"Mozilla/5.0 (Macintosh; Intel Mac OS X 10_15_7) AppleWebKit/537.36 (KHTML, like Gecko) Chrome/114.0.0.0 Safari/537.36\",\n",
    "    \"Content-Type\": \"application/json; charset=utf-8\",\n",
    "}"
   ]
  },
  {
   "cell_type": "code",
   "execution_count": null,
   "metadata": {},
   "outputs": [],
   "source": [
    "def claude_create_chat(name: str) -> str:\n",
    "    uuid_ = uuid.uuid4()\n",
    "    body = {\n",
    "        \"uuid\": str(uuid_),\n",
    "        \"name\": name,\n",
    "    }\n",
    "\n",
    "    r = requests.post(\n",
    "        f\"{API_URL}/organizations/{ORGANIZATION_ID}/chat_conversations\",\n",
    "        cookies=COOKIES,\n",
    "        headers=HEADERS,\n",
    "        json=body\n",
    "    )\n",
    "\n",
    "    return str(uuid_)\n",
    "\n",
    "\n",
    "def claude_make_prompt(conv_id: str, user_question: str) -> str:\n",
    "    # promt = f\"\\n\\nHuman: {user_question}\\n\\nAssistant:\"\n",
    "    promt = user_question\n",
    "\n",
    "    data = {\n",
    "        \"completion\": {\n",
    "            \"prompt\": promt,\n",
    "            \"timezone\": \"Europe/Moscow\",\n",
    "            \"model\": \"claude-2\",\n",
    "        },\n",
    "        \"organization_uuid\": ORGANIZATION_ID,\n",
    "        \"conversation_uuid\": conv_id,\n",
    "        \"text\": promt,\n",
    "    }\n",
    "\n",
    "    response = requests.post(\n",
    "        f\"{API_URL}/append_message\",\n",
    "        cookies=COOKIES,\n",
    "        headers=HEADERS,\n",
    "        data=json.dumps(data),\n",
    "        timeout=5*60 # 5 minutes \n",
    "    )\n",
    "\n",
    "    response.encoding = \"utf-8\"\n",
    "\n",
    "    if response.status_code != 200:\n",
    "        raise Exception(response.text)\n",
    "\n",
    "    response_split = response.text.split(\"\\n\\n\")\n",
    "    if len(response_split) < 3:\n",
    "        print(f\"Failed to generate response for {user_question}\")\n",
    "        return None\n",
    "\n",
    "    return json.loads(response_split[-3].split(\"data: \")[1])[\"completion\"].strip()"
   ]
  },
  {
   "cell_type": "code",
   "execution_count": null,
   "metadata": {},
   "outputs": [],
   "source": [
    "main_prompt = \"\"\"\n",
    "В json ниже для каждого рецепта перечислены ингредиенты. Приведи их к структурированному виду: название ингредиента в именительном падеже без уточнений в скобках, количество, единица измерения в именительном падеже без сокращений. Например, [\"молоко\", \"2\", \"литр\"].\n",
    "Ингредиенты, написанные черерез запятую, разделяй на разные ингредиенты. \"По вкусу\" считай как единицу измерения. Для пустых полей выводи null. Выведи результат в виде массива массивов json внутри fenced code block.\n",
    "\n",
    "Вот рецепты:\n",
    "\"\"\""
   ]
  },
  {
   "cell_type": "code",
   "execution_count": null,
   "metadata": {},
   "outputs": [],
   "source": [
    "def fix_claude_json(json_string: str) -> str:\n",
    "    # Check if any square brackets are missing\n",
    "    while json_string.count(\"[\") != json_string.count(\"]\"):\n",
    "        # Find the first missing bracket\n",
    "        missing_bracket = json_string.index(\"[\") if json_string.count(\"[\") < json_string.count(\"]\") else json_string.index(\"]\")\n",
    "        # Insert the missing bracket\n",
    "        json_string = json_string[:missing_bracket] + \"[\" + json_string[missing_bracket:]\n",
    "\n",
    "    return json_string"
   ]
  },
  {
   "cell_type": "code",
   "execution_count": null,
   "metadata": {},
   "outputs": [],
   "source": [
    "recipes_per_message = 5"
   ]
  },
  {
   "cell_type": "code",
   "execution_count": null,
   "metadata": {},
   "outputs": [],
   "source": [
    "current_recipe = 201"
   ]
  },
  {
   "cell_type": "code",
   "execution_count": null,
   "metadata": {},
   "outputs": [],
   "source": [
    "chat_id = claude_create_chat(\n",
    "    f\"Convert recipe ingredients list from JSON to structured format - {current_recipe} / {df.shape[0] // recipes_per_message}\"\n",
    ")\n",
    "\n",
    "with tqdm(total=df.shape[0] - current_recipe*recipes_per_message) as pbar:\n",
    "    while current_recipe * recipes_per_message < df.shape[0]:\n",
    "        low = current_recipe * recipes_per_message\n",
    "        high = (current_recipe + 1) * recipes_per_message\n",
    "        high = min(high, df.shape[0])\n",
    "\n",
    "        # Get the current ingredients\n",
    "        current_ingredients = df[\"ingredients\"][low:high].to_json(force_ascii=False, orient=\"records\")\n",
    "        current_prompt = main_prompt + str(current_ingredients)\n",
    "\n",
    "        # Change chat every 5 iterations\n",
    "        if current_recipe % 5 == 0:\n",
    "            chat_id = claude_create_chat(\n",
    "                f\"Convert recipe ingredients list from JSON to structured format - {current_recipe} / {df.shape[0] // recipes_per_message}\"\n",
    "            )\n",
    "\n",
    "        # Get the response from Claude\n",
    "        try:\n",
    "            response = claude_make_prompt(chat_id, current_prompt)\n",
    "            json_block = response.split(\"```json\")[1].split(\"```\")[0].replace(\"\\'\", \"\\\"\")\n",
    "            data = json.loads(json_block)\n",
    "\n",
    "            for recipe in data:\n",
    "                if recipe is None:\n",
    "                    continue\n",
    "\n",
    "                for ingredient in recipe:\n",
    "                    if type(ingredient) != list:\n",
    "                        raise Exception(\"Invalid ingredient type\")\n",
    "\n",
    "        except Exception as e:\n",
    "            logger.error(e)\n",
    "            logger.error(response)\n",
    "            continue\n",
    "\n",
    "        # Update the dataframe\n",
    "        for i, recipe_ingedients in enumerate(data):\n",
    "            df[\"parsed_ingredients\"] = df[\"parsed_ingredients\"].astype(object)\n",
    "            df.at[low + i, \"parsed_ingredients\"] = pd.Series(recipe_ingedients)\n",
    "\n",
    "        current_recipe += 1\n",
    "        pbar.update(high - low)\n",
    "\n",
    "        df.to_json(\"data/structured_data.json\", force_ascii=False, orient=\"table\")\n",
    "\n",
    "df.to_json(\"data/structured_data.json\", force_ascii=False, orient=\"table\")"
   ]
  },
  {
   "cell_type": "markdown",
   "metadata": {},
   "source": [
    "# Post process data"
   ]
  },
  {
   "cell_type": "code",
   "execution_count": null,
   "metadata": {},
   "outputs": [],
   "source": []
  }
 ],
 "metadata": {
  "kernelspec": {
   "display_name": "venv",
   "language": "python",
   "name": "python3"
  },
  "language_info": {
   "codemirror_mode": {
    "name": "ipython",
    "version": 3
   },
   "file_extension": ".py",
   "mimetype": "text/x-python",
   "name": "python",
   "nbconvert_exporter": "python",
   "pygments_lexer": "ipython3",
   "version": "3.10.0"
  },
  "orig_nbformat": 4
 },
 "nbformat": 4,
 "nbformat_minor": 2
}
