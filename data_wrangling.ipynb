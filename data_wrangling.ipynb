{
 "cells": [
  {
   "cell_type": "code",
   "execution_count": null,
   "metadata": {},
   "outputs": [],
   "source": [
    "# Import packages\n",
    "import numpy as np\n",
    "import pandas as pd\n",
    "import re"
   ]
  },
  {
   "cell_type": "code",
   "execution_count": null,
   "metadata": {},
   "outputs": [],
   "source": [
    "# Read in data\n",
    "df = pd.read_json(\"data/raw_data.json\")\n",
    "df[\"parsed_ingredients\"] = None\n",
    "df.head()"
   ]
  },
  {
   "cell_type": "markdown",
   "metadata": {},
   "source": [
    "# Using Claude chat to process data\n"
   ]
  },
  {
   "cell_type": "code",
   "execution_count": null,
   "metadata": {},
   "outputs": [],
   "source": [
    "import json\n",
    "import os\n",
    "import requests\n",
    "import uuid\n",
    "\n",
    "from dotenv import load_dotenv\n",
    "from loguru import logger\n",
    "from tqdm import tqdm"
   ]
  },
  {
   "cell_type": "code",
   "execution_count": null,
   "metadata": {},
   "outputs": [],
   "source": [
    "load_dotenv(override=True)\n",
    "\n",
    "API_URL = \"https://claude.ai/api\"\n",
    "\n",
    "ORGANIZATION_ID = os.getenv(\"ORGANIZATION_ID\")\n",
    "\n",
    "COOKIES = {\n",
    "    \"sessionKey\": os.getenv(\"SESSION_KEY\")\n",
    "}\n",
    "\n",
    "HEADERS = {\n",
    "    \"User-Agent\": \"Mozilla/5.0 (Macintosh; Intel Mac OS X 10_15_7) AppleWebKit/537.36 (KHTML, like Gecko) Chrome/114.0.0.0 Safari/537.36\",\n",
    "    \"Content-Type\": \"application/json; charset=utf-8\",\n",
    "}"
   ]
  },
  {
   "cell_type": "code",
   "execution_count": null,
   "metadata": {},
   "outputs": [],
   "source": [
    "def claude_create_chat(name: str) -> str:\n",
    "    uuid_ = uuid.uuid4()\n",
    "    body = {\n",
    "        \"uuid\": str(uuid_),\n",
    "        \"name\": name,\n",
    "    }\n",
    "\n",
    "    r = requests.post(\n",
    "        f\"{API_URL}/organizations/{ORGANIZATION_ID}/chat_conversations\",\n",
    "        cookies=COOKIES,\n",
    "        headers=HEADERS,\n",
    "        json=body\n",
    "    )\n",
    "\n",
    "    return str(uuid_)\n",
    "\n",
    "\n",
    "def claude_make_prompt(conv_id: str, user_question: str) -> str:\n",
    "    # promt = f\"\\n\\nHuman: {user_question}\\n\\nAssistant:\"\n",
    "    promt = user_question\n",
    "\n",
    "    data = {\n",
    "        \"completion\": {\n",
    "            \"prompt\": promt,\n",
    "            \"timezone\": \"Europe/Moscow\",\n",
    "            \"model\": \"claude-2\",\n",
    "        },\n",
    "        \"organization_uuid\": ORGANIZATION_ID,\n",
    "        \"conversation_uuid\": conv_id,\n",
    "        \"text\": promt,\n",
    "    }\n",
    "\n",
    "    response = requests.post(\n",
    "        f\"{API_URL}/append_message\",\n",
    "        cookies=COOKIES,\n",
    "        headers=HEADERS,\n",
    "        data=json.dumps(data)\n",
    "    )\n",
    "\n",
    "    response.encoding = \"utf-8\"\n",
    "\n",
    "    if response.status_code != 200:\n",
    "        raise Exception(response.text)\n",
    "\n",
    "    response_split = response.text.split(\"\\n\\n\")\n",
    "    if len(response_split) < 3:\n",
    "        print(f\"Failed to generate response for {user_question}\")\n",
    "        return None\n",
    "\n",
    "    return json.loads(response_split[-3].split(\"data: \")[1])[\"completion\"].strip()"
   ]
  },
  {
   "cell_type": "code",
   "execution_count": null,
   "metadata": {},
   "outputs": [],
   "source": [
    "# Create a chat for parsing ingredients\n",
    "chat_id = claude_create_chat(\n",
    "    \"Convert recipe ingredients list from JSON to structured format\"\n",
    ")"
   ]
  },
  {
   "cell_type": "code",
   "execution_count": null,
   "metadata": {},
   "outputs": [],
   "source": [
    "main_prompt = \"\"\"\n",
    "В json ниже для каждого рецепта перечислены ингредиенты. Приведи их к структурированному виду: название ингредиента в именительном падеже без уточнений в скобках, количество, единица измерения. Например, ['молоко', 1, 'литр'].\n",
    "\"По вкусу\" считай как единицу измерения.\n",
    "Для пустых полей выводи null.\n",
    "Выведи результат в виде массива массивов json внутри fenced code block.\n",
    "\n",
    "Вот рецепты:\n",
    "\"\"\""
   ]
  },
  {
   "cell_type": "code",
   "execution_count": null,
   "metadata": {},
   "outputs": [],
   "source": [
    "def fix_claude_json(json_string: str) -> str:\n",
    "    # Check if any square brackets are missing\n",
    "    while json_string.count(\"[\") != json_string.count(\"]\"):\n",
    "        # Find the first missing bracket\n",
    "        missing_bracket = json_string.index(\"[\") if json_string.count(\"[\") < json_string.count(\"]\") else json_string.index(\"]\")\n",
    "        # Insert the missing bracket\n",
    "        json_string = json_string[:missing_bracket] + \"[\" + json_string[missing_bracket:]\n",
    "\n",
    "    return json_string"
   ]
  },
  {
   "cell_type": "code",
   "execution_count": null,
   "metadata": {},
   "outputs": [],
   "source": [
    "recipes_per_message = 20"
   ]
  },
  {
   "cell_type": "code",
   "execution_count": null,
   "metadata": {},
   "outputs": [],
   "source": [
    "current_recipe = 0\n",
    "with tqdm(total=df.shape[0] - current_recipe*recipes_per_message) as pbar:\n",
    "    while current_recipe * recipes_per_message < df.shape[0]:\n",
    "        low = current_recipe * recipes_per_message\n",
    "        high = (current_recipe + 1) * recipes_per_message\n",
    "        high = min(high, df.shape[0])\n",
    "\n",
    "        # Get the current ingredients\n",
    "        current_ingredients = df[\"ingredients\"][low:high].to_json(force_ascii=False, orient=\"records\")\n",
    "        current_prompt = main_prompt + \"\\n\" + str(current_ingredients)\n",
    "\n",
    "        # Get the response from Claude\n",
    "        response = claude_make_prompt(chat_id, current_prompt)\n",
    "        json_block = response.split(\"```json\")[1].split(\"```\")[0].replace(\"\\'\", \"\\\"\")\n",
    "        data = json.loads(fix_claude_json(json_block))\n",
    "\n",
    "        # Update the dataframe\n",
    "        for i, recipe_ingedients in enumerate(data):\n",
    "            df[\"parsed_ingredients\"] = df[\"parsed_ingredients\"].astype(object)\n",
    "            df.at[i, \"parsed_ingredients\"] = pd.Series(recipe_ingedients)\n",
    "\n",
    "        current_recipe += 1\n",
    "        pbar.update(high - low)\n",
    "\n",
    "        df.to_json(\"data/structured_data.json\", force_ascii=False, orient=\"records\")\n",
    "\n",
    "df.to_json(\"data/structured_data.json\", force_ascii=False, orient=\"records\")"
   ]
  },
  {
   "cell_type": "code",
   "execution_count": null,
   "metadata": {},
   "outputs": [],
   "source": []
  }
 ],
 "metadata": {
  "kernelspec": {
   "display_name": "venv",
   "language": "python",
   "name": "python3"
  },
  "language_info": {
   "codemirror_mode": {
    "name": "ipython",
    "version": 3
   },
   "file_extension": ".py",
   "mimetype": "text/x-python",
   "name": "python",
   "nbconvert_exporter": "python",
   "pygments_lexer": "ipython3",
   "version": "3.10.0"
  },
  "orig_nbformat": 4
 },
 "nbformat": 4,
 "nbformat_minor": 2
}
